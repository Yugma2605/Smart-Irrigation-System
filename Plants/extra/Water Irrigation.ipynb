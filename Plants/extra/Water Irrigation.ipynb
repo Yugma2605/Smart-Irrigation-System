{
 "cells": [
  {
   "cell_type": "markdown",
   "id": "twelve-decimal",
   "metadata": {},
   "source": [
    "# Water Irrigation"
   ]
  },
  {
   "cell_type": "code",
   "execution_count": 1,
   "id": "fa1af944",
   "metadata": {},
   "outputs": [],
   "source": [
    "import time\n",
    "# import busio\n",
    "\n",
    "# import board\n",
    "# from board import SCL,SDA\n",
    "\n",
    "# from adafruit_seesaw.seesaw import Seesaw\n",
    "# import requests\n",
    "# from picamera import PiCamera\n",
    "\n",
    "import numpy as np\n",
    "import skfuzzy as fuzz\n",
    "from skfuzzy import control as ctrl\n",
    "import keras\n",
    "# import RPi.GPIO as GPIO \n",
    "import time"
   ]
  },
  {
   "cell_type": "code",
   "execution_count": 2,
   "id": "431ab728",
   "metadata": {},
   "outputs": [],
   "source": [
    "# def get_moisture():\n",
    "#     i2c_bus = busio.I2C(SCL,SDA)\n",
    "\n",
    "#     ss = Seesaw(i2c_bus, addr=0x36)\n",
    "\n",
    "#     touch = 0.0\n",
    "#     temp = 0.0\n",
    "\n",
    "#     while True:    # read moisture level through capacitive touch pad\n",
    "#         touch = touch + float(ss.moisture_read())\n",
    "#         # read temperature from the temperature sensor\n",
    "#         temp = float(ss.get_temp())\n",
    "\n",
    "#         #print(\"temp: \" + str(temp) + \"  moisture: \" + str(touch))\n",
    "#         time.sleep(1)\n",
    "\n",
    "#     touch = touch/5\n",
    "#     temp = temp/5\n",
    "#     return touch"
   ]
  },
  {
   "cell_type": "code",
   "execution_count": 3,
   "id": "803c053d",
   "metadata": {},
   "outputs": [],
   "source": [
    "# def Capture_Image:\n",
    "#     camera = PiCamera()\n",
    "#     camera.capture('/home/pi/Desktop/image.jpg')"
   ]
  },
  {
   "cell_type": "code",
   "execution_count": 4,
   "id": "a8caf51f",
   "metadata": {},
   "outputs": [],
   "source": [
    "# def Image_Process():\n",
    "#     model = keras.models.load_model(\"vgg16_NP1.h5\")\n",
    "#     image_size = (224, 224)\n",
    "#     img = keras.preprocessing.image.load_img(\n",
    "#         \"abc1.jpg\", target_size=image_size\n",
    "#     )\n",
    "#     img_array = keras.preprocessing.image.img_to_array(img)\n",
    "\n",
    "#     img_array = tf.expand_dims(img_array, 0)  # Create batch axis\n",
    "\n",
    "#     predictions = model.predict(img_array)\n",
    "#     score = predictions[0]*100\n",
    "    "
   ]
  },
  {
   "cell_type": "code",
   "execution_count": 5,
   "id": "df5da2af",
   "metadata": {},
   "outputs": [],
   "source": [
    "# def Image_Processing()\n",
    "#     Capture_Image()\n",
    "#     Image_Process()\n",
    "#     return crop_status"
   ]
  },
  {
   "cell_type": "markdown",
   "id": "descending-abraham",
   "metadata": {},
   "source": [
    "Importing thr required modules"
   ]
  },
  {
   "cell_type": "markdown",
   "id": "civilian-senate",
   "metadata": {},
   "source": [
    "## Problem Definition and Anticedents and Consequents"
   ]
  },
  {
   "cell_type": "markdown",
   "id": "ambient-owner",
   "metadata": {},
   "source": [
    "Declaring the antecedents and consequents in the specified range."
   ]
  },
  {
   "cell_type": "code",
   "execution_count": 6,
   "id": "conceptual-fleece",
   "metadata": {},
   "outputs": [],
   "source": [
    "soil_moisture = ctrl.Antecedent(np.arange(200, 1500, 1), 'soil_moisture')\n",
    "PrecipitationProbability = ctrl.Antecedent(np.arange(0, 101, 1), 'PrecipitationProbability')\n",
    "Precipitation = ctrl.Antecedent(np.arange(0, 101, 1), 'Precipitation')\n",
    "crop_status = ctrl.Antecedent(np.arange(0, 2, 1), 'crop_status')\n",
    "irrigation_duration = ctrl.Consequent(np.arange(0, 16, 1), 'irrigation_duration')"
   ]
  },
  {
   "cell_type": "markdown",
   "id": "aggregate-newfoundland",
   "metadata": {},
   "source": [
    "### Soil Moisture"
   ]
  },
  {
   "cell_type": "markdown",
   "id": "uniform-purse",
   "metadata": {},
   "source": [
    "Soil Moisture takes three crisp values : low, medium and high <br>\n",
    "\n",
    "Soil Moisture takes Gaussian membership function. The parameters are universe of discourse, mean (centre) value of range, and standard deviation."
   ]
  },
  {
   "cell_type": "code",
   "execution_count": 7,
   "id": "ad9bd6b8",
   "metadata": {},
   "outputs": [],
   "source": [
    "soil_moisture['poor'] = fuzz.trimf(soil_moisture.universe, [200, 200, 850])\n",
    "soil_moisture['average'] = fuzz.trimf(soil_moisture.universe, [200, 850, 1500])\n",
    "soil_moisture['good'] = fuzz.trimf(soil_moisture.universe, [850, 1500, 1500])\n",
    "# soil_moisture.view()"
   ]
  },
  {
   "cell_type": "markdown",
   "id": "electrical-prefix",
   "metadata": {},
   "source": [
    "### Weather Forecast"
   ]
  },
  {
   "cell_type": "markdown",
   "id": "comparable-swiss",
   "metadata": {},
   "source": [
    "Weather forecast is categorised in three different crisp values : Sunny, Cloudy and Rainy <br> \n",
    "\n",
    "Weather Forecast is defined using Gaussian membership function. The parameters are universe of discourse, mean (centre) value of range, and standard deviation."
   ]
  },
  {
   "cell_type": "code",
   "execution_count": 8,
   "id": "36252dea",
   "metadata": {},
   "outputs": [],
   "source": [
    "PrecipitationProbability['low'] = fuzz.trimf(PrecipitationProbability.universe, [0, 0, 45])\n",
    "PrecipitationProbability['normal'] = fuzz.trimf(PrecipitationProbability.universe, [0, 45, 100])\n",
    "PrecipitationProbability['high'] = fuzz.trimf(PrecipitationProbability.universe, [75, 100, 100])\n",
    "# PrecipitationProbability.view()"
   ]
  },
  {
   "cell_type": "code",
   "execution_count": 9,
   "id": "9da48f71",
   "metadata": {},
   "outputs": [],
   "source": [
    "Precipitation['low'] = fuzz.trimf(Precipitation.universe, [0, 0, 5])\n",
    "Precipitation['normal'] = fuzz.trimf(Precipitation.universe, [0, 5, 25])\n",
    "Precipitation['high'] = fuzz.trimf(Precipitation.universe, [25, 100, 100])\n",
    "# Precipitation.view()"
   ]
  },
  {
   "cell_type": "markdown",
   "id": "discrete-press",
   "metadata": {},
   "source": [
    "### Crop Status "
   ]
  },
  {
   "cell_type": "markdown",
   "id": "weighted-cooling",
   "metadata": {},
   "source": [
    "The Crop Status takes almost crisp values i.e. either dry, normal or high which can be defined using triangular membership fuction. <br>\n",
    "\n",
    "It takes two arguments : universe of discourse, array [ starting value, centre value, ending value ]"
   ]
  },
  {
   "cell_type": "code",
   "execution_count": 10,
   "id": "3cc65131",
   "metadata": {},
   "outputs": [],
   "source": [
    "crop_status.automf()\n",
    "# crop_status.view()"
   ]
  },
  {
   "cell_type": "markdown",
   "id": "latter-entrance",
   "metadata": {},
   "source": [
    "### Consequent : Irrigation Duration (in minutes)"
   ]
  },
  {
   "cell_type": "markdown",
   "id": "russian-admission",
   "metadata": {},
   "source": [
    "Irrigation Duration is in minutes in terms of less, medium and high. It also defined by Gaussian membership function."
   ]
  },
  {
   "cell_type": "code",
   "execution_count": 11,
   "id": "d6b94d1a",
   "metadata": {},
   "outputs": [],
   "source": [
    "irrigation_duration.automf(3)\n",
    "# irrigation_duration.view()"
   ]
  },
  {
   "cell_type": "markdown",
   "id": "charitable-johns",
   "metadata": {},
   "source": [
    "## Defining Fuzzy Rules"
   ]
  },
  {
   "cell_type": "markdown",
   "id": "elementary-pavilion",
   "metadata": {},
   "source": [
    "The fuzzy rules are defined as follows: <br>\n",
    "\n",
    "Simple inferences are : <br>\n",
    "\n",
    "<list>\n",
    "\n",
    "<li>If the moisture is low and crop status is low then based on the water tank level, the water should be supplied. <br>\n",
    "\n",
    "<li>If the moisture is medium and forecast is rainy, we may not need to supply water for longer time. <br>\n",
    "\n",
    "<li>If the moisture is high and crop status is high then without looking at other antecedents the water supply should be provided for less time. <br>\n",
    "    \n",
    "</list>"
   ]
  },
  {
   "cell_type": "code",
   "execution_count": 12,
   "id": "cd3efa0e",
   "metadata": {},
   "outputs": [],
   "source": [
    "# i = 1\n",
    "# for x in [\"poor\", \"average\", \"good\"]:\n",
    "#     for y in [\"low\", \"normal\", \"high\"]:\n",
    "#         for z in [\"low\", \"normal\", \"high\"]:\n",
    "#             for w in [\"poor\", \"good\"]:\n",
    "#                 a = \"\"\n",
    "#                 if z == \"high\":\n",
    "#                     a = \"rule\" + str(i) + \" = ctrl.Rule(soil_moisture['\" + x + \"'] & PrecipitationProbability['\" + y + \"'] & Precipitation['\" + z + \"'] & crop_status['\" + w + \"'], irrigation_duration['poor'])\"\n",
    "#                 else:\n",
    "#                     a = \"rule\" + str(i) + \" = ctrl.Rule(soil_moisture['\" + x + \"'] & PrecipitationProbability['\" + y + \"'] & Precipitation['\" + z + \"'] & crop_status['\" + w + \"'], irrigation_duration[''])\"\n",
    "#                 print(a)\n",
    "#                 i = i+1"
   ]
  },
  {
   "cell_type": "code",
   "execution_count": 13,
   "id": "d8a1340f",
   "metadata": {},
   "outputs": [],
   "source": [
    "rule1 = ctrl.Rule(soil_moisture['poor'] & PrecipitationProbability['low'] & Precipitation['low'] & crop_status['poor'], irrigation_duration['good'])\n",
    "rule2 = ctrl.Rule(soil_moisture['poor'] & PrecipitationProbability['low'] & Precipitation['low'] & crop_status['good'], irrigation_duration['good'])\n",
    "rule3 = ctrl.Rule(soil_moisture['poor'] & PrecipitationProbability['low'] & Precipitation['normal'] & crop_status['poor'], irrigation_duration['average'])\n",
    "rule4 = ctrl.Rule(soil_moisture['poor'] & PrecipitationProbability['low'] & Precipitation['normal'] & crop_status['good'], irrigation_duration['average'])\n",
    "rule5 = ctrl.Rule(soil_moisture['poor'] & PrecipitationProbability['low'] & Precipitation['high'] & crop_status['poor'], irrigation_duration['poor'])\n",
    "rule6 = ctrl.Rule(soil_moisture['poor'] & PrecipitationProbability['low'] & Precipitation['high'] & crop_status['good'], irrigation_duration['poor'])\n",
    "rule7 = ctrl.Rule(soil_moisture['poor'] & PrecipitationProbability['normal'] & Precipitation['low'] & crop_status['poor'], irrigation_duration['average'])\n",
    "rule8 = ctrl.Rule(soil_moisture['poor'] & PrecipitationProbability['normal'] & Precipitation['low'] & crop_status['good'], irrigation_duration['average'])\n",
    "rule9 = ctrl.Rule(soil_moisture['poor'] & PrecipitationProbability['normal'] & Precipitation['normal'] & crop_status['poor'], irrigation_duration['average'])\n",
    "rule10 = ctrl.Rule(soil_moisture['poor'] & PrecipitationProbability['normal'] & Precipitation['normal'] & crop_status['good'], irrigation_duration['poor'])\n",
    "rule11 = ctrl.Rule(soil_moisture['poor'] & PrecipitationProbability['normal'] & Precipitation['high'] & crop_status['poor'], irrigation_duration['poor'])\n",
    "rule12 = ctrl.Rule(soil_moisture['poor'] & PrecipitationProbability['normal'] & Precipitation['high'] & crop_status['good'], irrigation_duration['poor'])\n",
    "rule13 = ctrl.Rule(soil_moisture['poor'] & PrecipitationProbability['high'] & Precipitation['low'] & crop_status['poor'], irrigation_duration['average'])\n",
    "rule14 = ctrl.Rule(soil_moisture['poor'] & PrecipitationProbability['high'] & Precipitation['low'] & crop_status['good'], irrigation_duration['poor'])\n",
    "rule15 = ctrl.Rule(soil_moisture['poor'] & PrecipitationProbability['high'] & Precipitation['normal'] & crop_status['poor'], irrigation_duration['average'])\n",
    "rule16 = ctrl.Rule(soil_moisture['poor'] & PrecipitationProbability['high'] & Precipitation['normal'] & crop_status['good'], irrigation_duration['poor'])\n",
    "rule17 = ctrl.Rule(soil_moisture['poor'] & PrecipitationProbability['high'] & Precipitation['high'] & crop_status['poor'], irrigation_duration['poor'])\n",
    "rule18 = ctrl.Rule(soil_moisture['poor'] & PrecipitationProbability['high'] & Precipitation['high'] & crop_status['good'], irrigation_duration['poor'])\n",
    "rule19 = ctrl.Rule(soil_moisture['average'] & PrecipitationProbability['low'] & Precipitation['low'] & crop_status['poor'], irrigation_duration['good'])\n",
    "rule20 = ctrl.Rule(soil_moisture['average'] & PrecipitationProbability['low'] & Precipitation['low'] & crop_status['good'], irrigation_duration['average'])\n",
    "rule21 = ctrl.Rule(soil_moisture['average'] & PrecipitationProbability['low'] & Precipitation['normal'] & crop_status['poor'], irrigation_duration['average'])\n",
    "rule22 = ctrl.Rule(soil_moisture['average'] & PrecipitationProbability['low'] & Precipitation['normal'] & crop_status['good'], irrigation_duration['average'])\n",
    "rule23 = ctrl.Rule(soil_moisture['average'] & PrecipitationProbability['low'] & Precipitation['high'] & crop_status['poor'], irrigation_duration['poor'])\n",
    "rule24 = ctrl.Rule(soil_moisture['average'] & PrecipitationProbability['low'] & Precipitation['high'] & crop_status['good'], irrigation_duration['poor'])\n",
    "rule25 = ctrl.Rule(soil_moisture['average'] & PrecipitationProbability['normal'] & Precipitation['low'] & crop_status['poor'], irrigation_duration['good'])\n",
    "rule26 = ctrl.Rule(soil_moisture['average'] & PrecipitationProbability['normal'] & Precipitation['low'] & crop_status['good'], irrigation_duration['average'])\n",
    "rule27 = ctrl.Rule(soil_moisture['average'] & PrecipitationProbability['normal'] & Precipitation['normal'] & crop_status['poor'], irrigation_duration['average'])\n",
    "rule28 = ctrl.Rule(soil_moisture['average'] & PrecipitationProbability['normal'] & Precipitation['normal'] & crop_status['good'], irrigation_duration['poor'])\n",
    "rule29 = ctrl.Rule(soil_moisture['average'] & PrecipitationProbability['normal'] & Precipitation['high'] & crop_status['poor'], irrigation_duration['poor'])\n",
    "rule30 = ctrl.Rule(soil_moisture['average'] & PrecipitationProbability['normal'] & Precipitation['high'] & crop_status['good'], irrigation_duration['poor'])\n",
    "rule31 = ctrl.Rule(soil_moisture['average'] & PrecipitationProbability['high'] & Precipitation['low'] & crop_status['poor'], irrigation_duration['average'])\n",
    "rule32 = ctrl.Rule(soil_moisture['average'] & PrecipitationProbability['high'] & Precipitation['low'] & crop_status['good'], irrigation_duration['poor'])\n",
    "rule33 = ctrl.Rule(soil_moisture['average'] & PrecipitationProbability['high'] & Precipitation['normal'] & crop_status['poor'], irrigation_duration['average'])\n",
    "rule34 = ctrl.Rule(soil_moisture['average'] & PrecipitationProbability['high'] & Precipitation['normal'] & crop_status['good'], irrigation_duration['poor'])\n",
    "rule35 = ctrl.Rule(soil_moisture['average'] & PrecipitationProbability['high'] & Precipitation['high'] & crop_status['poor'], irrigation_duration['poor'])\n",
    "rule36 = ctrl.Rule(soil_moisture['average'] & PrecipitationProbability['high'] & Precipitation['high'] & crop_status['good'], irrigation_duration['poor'])\n",
    "rule37 = ctrl.Rule(soil_moisture['good'] & PrecipitationProbability['low'] & Precipitation['low'] & crop_status['poor'], irrigation_duration['average'])\n",
    "rule38 = ctrl.Rule(soil_moisture['good'] & PrecipitationProbability['low'] & Precipitation['low'] & crop_status['good'], irrigation_duration['average'])\n",
    "rule39 = ctrl.Rule(soil_moisture['good'] & PrecipitationProbability['low'] & Precipitation['normal'] & crop_status['poor'], irrigation_duration['average'])\n",
    "rule40 = ctrl.Rule(soil_moisture['good'] & PrecipitationProbability['low'] & Precipitation['normal'] & crop_status['good'], irrigation_duration['poor'])\n",
    "rule41 = ctrl.Rule(soil_moisture['good'] & PrecipitationProbability['low'] & Precipitation['high'] & crop_status['poor'], irrigation_duration['poor'])\n",
    "rule42 = ctrl.Rule(soil_moisture['good'] & PrecipitationProbability['low'] & Precipitation['high'] & crop_status['good'], irrigation_duration['poor'])\n",
    "rule43 = ctrl.Rule(soil_moisture['good'] & PrecipitationProbability['normal'] & Precipitation['low'] & crop_status['poor'], irrigation_duration['average'])\n",
    "rule44 = ctrl.Rule(soil_moisture['good'] & PrecipitationProbability['normal'] & Precipitation['low'] & crop_status['good'], irrigation_duration['poor'])\n",
    "rule45 = ctrl.Rule(soil_moisture['good'] & PrecipitationProbability['normal'] & Precipitation['normal'] & crop_status['poor'], irrigation_duration['average'])\n",
    "rule46 = ctrl.Rule(soil_moisture['good'] & PrecipitationProbability['normal'] & Precipitation['normal'] & crop_status['good'], irrigation_duration['poor'])\n",
    "rule47 = ctrl.Rule(soil_moisture['good'] & PrecipitationProbability['normal'] & Precipitation['high'] & crop_status['poor'], irrigation_duration['poor'])\n",
    "rule48 = ctrl.Rule(soil_moisture['good'] & PrecipitationProbability['normal'] & Precipitation['high'] & crop_status['good'], irrigation_duration['poor'])\n",
    "rule49 = ctrl.Rule(soil_moisture['good'] & PrecipitationProbability['high'] & Precipitation['low'] & crop_status['poor'], irrigation_duration['poor'])\n",
    "rule50 = ctrl.Rule(soil_moisture['good'] & PrecipitationProbability['high'] & Precipitation['low'] & crop_status['good'], irrigation_duration['poor'])\n",
    "rule51 = ctrl.Rule(soil_moisture['good'] & PrecipitationProbability['high'] & Precipitation['normal'] & crop_status['poor'], irrigation_duration['poor'])\n",
    "rule52 = ctrl.Rule(soil_moisture['good'] & PrecipitationProbability['high'] & Precipitation['normal'] & crop_status['good'], irrigation_duration['poor'])\n",
    "rule53 = ctrl.Rule(soil_moisture['good'] & PrecipitationProbability['high'] & Precipitation['high'] & crop_status['poor'], irrigation_duration['poor'])\n",
    "rule54 = ctrl.Rule(soil_moisture['good'] & PrecipitationProbability['high'] & Precipitation['high'] & crop_status['good'], irrigation_duration['poor'])\n"
   ]
  },
  {
   "cell_type": "markdown",
   "id": "centered-lodge",
   "metadata": {},
   "source": [
    "## Creating Fuzzy Controller from Fuzzy Rules"
   ]
  },
  {
   "cell_type": "code",
   "execution_count": 14,
   "id": "noted-alliance",
   "metadata": {},
   "outputs": [],
   "source": [
    "waterpump_ctrl = ctrl.ControlSystem([rule1, rule2, rule3, rule4, rule5, rule6, rule7, rule8, rule9, rule11, rule12, rule13, rule14, rule15, rule16, rule17, rule18, rule19, rule21, rule22, rule23, rule24, rule25, rule26, rule27, rule28, rule29, rule30, rule31, rule32, rule33, rule34, rule35, rule36, rule37, rule38, rule39, rule40, rule41, rule42, rule43, rule44, rule45, rule46, rule47, rule48, rule49, rule50, rule51, rule52, rule53, rule54])\n",
    "irrigation_system = ctrl.ControlSystemSimulation(waterpump_ctrl)"
   ]
  },
  {
   "cell_type": "markdown",
   "id": "combined-retrieval",
   "metadata": {},
   "source": [
    "## Using Fuzzy Controller"
   ]
  },
  {
   "cell_type": "markdown",
   "id": "major-approach",
   "metadata": {},
   "source": [
    "Here, the situation is : Soil moisture is low, weather forecast is cloduy, crop is dry and tank has enough supply of water, so the irrgation should be done for medium time as the forecast may change to rainy and if there is more water in fields it may introduce fungus and other plant root related diseases."
   ]
  },
  {
   "cell_type": "markdown",
   "id": "golden-collaboration",
   "metadata": {},
   "source": [
    "Here the situation is as follows : <br>\n",
    "\n",
    "The soil is medium moisturised, weather is sunny, crop is normal and tank is almost empty. So the water can be supplied for lower time until the tank gets totally empty."
   ]
  },
  {
   "cell_type": "markdown",
   "id": "linear-special",
   "metadata": {},
   "source": [
    "The last case is given as : <br>\n",
    "\n",
    "The soil is dry, the weather is sunny, crop is dry and tank level is almost full. Here crops can die due to less supply of water. We have enough water, we can supply water to the maximum rate possible."
   ]
  },
  {
   "cell_type": "code",
   "execution_count": 15,
   "id": "cf079a98",
   "metadata": {},
   "outputs": [],
   "source": [
    "# irrigation_system.input['soil_moisture'] = 201\n",
    "# # PrecipitationProbability,Precipitation = get_weather_params()\n",
    "# irrigation_system.input['PrecipitationProbability'] = 46\n",
    "# irrigation_system.input['Precipitation'] = 8\n",
    "# irrigation_system.input['crop_status'] = 1\n",
    "# irrigation_system.compute()\n",
    "# irrigation_system.output['irrigation_duration']"
   ]
  },
  {
   "cell_type": "code",
   "execution_count": 19,
   "id": "efc2cc29",
   "metadata": {},
   "outputs": [],
   "source": [
    "# time = []\n",
    "i=0\n",
    "fields = [ 'Soil', 'Precipitation', 'Time'] \n",
    "import csv\n",
    "with open(\"abc.csv\", 'w') as csvfile: \n",
    "    csvwriter = csv.writer(csvfile) \n",
    "    csvwriter.writerow(fields) \n",
    "\n",
    "    for soil in range(200,1500):\n",
    "        for prob in range(0,101):\n",
    "            for pro in range(0,101):\n",
    "                for im in range(0,2):\n",
    "                    # i = i+1\n",
    "                    irrigation_system.input['soil_moisture'] = soil\n",
    "                    irrigation_system.input['PrecipitationProbability'] = prob\n",
    "                    irrigation_system.input['Precipitation'] = pro\n",
    "                    irrigation_system.input['crop_status'] = im\n",
    "                    try:\n",
    "                        irrigation_system.compute()\n",
    "                        # time.append(irrigation_system.output['irrigation_duration'])\n",
    "                        csvwriter.writerows([soil,prob,irrigation_system.output['irrigation_duration']])\n",
    "                    except:\n",
    "                        a= \"\""
   ]
  },
  {
   "cell_type": "code",
   "execution_count": null,
   "id": "2c09834e",
   "metadata": {},
   "outputs": [],
   "source": [
    "# def Output():\n",
    "#     irrigation_system.input['soil_moisture'] = get_moisture()\n",
    "#     PrecipitationProbability,Precipitation = get_weather_params()\n",
    "#     irrigation_system.input['PrecipitationProbability'] = PrecipitationProbability\n",
    "#     irrigation_system.input['Precipitation'] = Precipitation\n",
    "#     irrigation_system.input['crop_status'] = Image_Processsing()\n",
    "#     irrigation_system.compute()\n",
    "#     # \n",
    "#     return irrigation_system.output['irrigation_duration']"
   ]
  },
  {
   "cell_type": "code",
   "execution_count": null,
   "id": "04d8daa1",
   "metadata": {},
   "outputs": [],
   "source": [
    "# ledl = 8\n",
    "\n",
    "# GPIO.setwarnings(False)\n",
    "# GPIO.setmode (GPIO.BOARD) \n",
    "# GPIO.setup(ledl, GPIO.OUT)\n",
    "\n",
    "\n",
    "# GPIO.output (ledl, True)\n",
    "# #print(\"yes\")\n",
    "# time.sleep()\n",
    "\n",
    "# GPIO.output (ledl, False)\n",
    "# #print(\"no\")\n"
   ]
  }
 ],
 "metadata": {
  "kernelspec": {
   "display_name": "Python 3",
   "language": "python",
   "name": "python3"
  },
  "language_info": {
   "codemirror_mode": {
    "name": "ipython",
    "version": 3
   },
   "file_extension": ".py",
   "mimetype": "text/x-python",
   "name": "python",
   "nbconvert_exporter": "python",
   "pygments_lexer": "ipython3",
   "version": "3.8.12"
  }
 },
 "nbformat": 4,
 "nbformat_minor": 5
}
