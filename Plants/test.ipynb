{
 "cells": [
  {
   "cell_type": "code",
   "execution_count": 1,
   "metadata": {},
   "outputs": [],
   "source": [
    "import keras\n"
   ]
  },
  {
   "cell_type": "code",
   "execution_count": 5,
   "metadata": {},
   "outputs": [],
   "source": [
    "model = keras.models.load_model(\"C:/Users/utsav/Desktop/vgg16_NP1.h5\")"
   ]
  },
  {
   "cell_type": "code",
   "execution_count": 7,
   "metadata": {},
   "outputs": [],
   "source": [
    "import tensorflow as tf\n",
    "from tensorflow import keras\n",
    "from tensorflow.keras import layers\n"
   ]
  },
  {
   "cell_type": "code",
   "execution_count": 21,
   "metadata": {},
   "outputs": [
    {
     "name": "stdout",
     "output_type": "stream",
     "text": [
      "[1.5325941e-32 1.0000000e+02]\n"
     ]
    }
   ],
   "source": [
    "image_size = (224, 224)\n",
    "img = keras.preprocessing.image.load_img(\n",
    "    \"droop.jfif\", target_size=image_size\n",
    ")\n",
    "img_array = keras.preprocessing.image.img_to_array(img)\n",
    "\n",
    "img_array = tf.expand_dims(img_array, 0)  # Create batch axis\n",
    "\n",
    "predictions = model.predict(img_array)\n",
    "score = predictions[0]*100\n",
    "# First healthy second droop\n",
    "print(score)\n",
    "# print(\"This image is %.2f percent droop plant and %.2f percent healthy plant.\"% (100 * (1 - score), 100 * score))"
   ]
  },
  {
   "cell_type": "code",
   "execution_count": 1,
   "metadata": {},
   "outputs": [],
   "source": [
    "from tflite_runtime.interpreter import Interpreter\n"
   ]
  },
  {
   "cell_type": "code",
   "execution_count": 7,
   "metadata": {},
   "outputs": [
    {
     "name": "stdout",
     "output_type": "stream",
     "text": [
      "[1.2046952]\n"
     ]
    }
   ],
   "source": [
    "from skimage import io\n",
    "import skimage\n",
    "\n",
    "import numpy as np\n",
    "from skimage.transform import rescale, resize, downscale_local_mean\n",
    "interpreter = Interpreter(model_path='model.tflite')\n",
    "interpreter.allocate_tensors()\n",
    "\n",
    "input_details = interpreter.get_input_details()\n",
    "output_details = interpreter.get_output_details()\n",
    "\n",
    "im = io.imread('healthy1.jpg')\n",
    "im = skimage.img_as_float32(im)\n",
    "im = np.array(im)\n",
    "\n",
    "im = resize(im,(224,224))\n",
    "im = np.expand_dims(im, axis=0)\n",
    "\n",
    "interpreter.set_tensor(input_details[0]['index'], im)\n",
    "interpreter.invoke()\n",
    "\n",
    "predictions = interpreter.get_tensor(output_details[0]['index'])[0]\n",
    "print(predictions)"
   ]
  }
 ],
 "metadata": {
  "interpreter": {
   "hash": "1a46d0e3416d4736df79640457c4d72e0bddd336af1d5776e079265d980f5ef4"
  },
  "kernelspec": {
   "display_name": "Python 3.8.8 64-bit ('base': conda)",
   "language": "python",
   "name": "python3"
  },
  "language_info": {
   "codemirror_mode": {
    "name": "ipython",
    "version": 3
   },
   "file_extension": ".py",
   "mimetype": "text/x-python",
   "name": "python",
   "nbconvert_exporter": "python",
   "pygments_lexer": "ipython3",
   "version": "3.8.8"
  },
  "orig_nbformat": 4
 },
 "nbformat": 4,
 "nbformat_minor": 2
}
